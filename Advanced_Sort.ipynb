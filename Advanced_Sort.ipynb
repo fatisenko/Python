{
  "nbformat": 4,
  "nbformat_minor": 0,
  "metadata": {
    "colab": {
      "name": "Advanced_Sort.ipynb",
      "provenance": []
    },
    "kernelspec": {
      "name": "python3",
      "display_name": "Python 3"
    },
    "language_info": {
      "name": "python"
    }
  },
  "cells": [
    {
      "cell_type": "markdown",
      "metadata": {
        "id": "tR9UDisNItQ4"
      },
      "source": [
        "Advanced List Sort\n",
        "Create a function that takes a list of numbers or strings and returns a list with the items from the original list stored into sublists. Items of the same value should be in the same sublist.\n",
        "Examples\n",
        "advanced_sort([2, 1, 2, 1]) ➞ [[2, 2], [1, 1]]\n",
        "\n",
        "advanced_sort([5, 4, 5, 5, 4, 3]) ➞ [[5, 5, 5], [4, 4], [3]]\n",
        "\n",
        "advanced_sort([\"b\", \"a\", \"b\", \"a\", \"c\"]) ➞ [[\"b\", \"b\"], [\"a\", \"a\"], [\"c\"]]\n",
        "Notes\n",
        "The sublists should be returned in the order of each element's first appearance in the given list. (edited) "
      ]
    },
    {
      "cell_type": "code",
      "metadata": {
        "colab": {
          "base_uri": "https://localhost:8080/"
        },
        "id": "xFsOhq0uIrqp",
        "outputId": "be47c47e-f9b5-4bb8-db4d-f6ecd8d197d7"
      },
      "source": [
        "def advanced_sort(liste):\n",
        "  liste2 = []\n",
        "  for i in sorted(set(liste),reverse=True):\n",
        "      liste2.append([i for j in range(liste.count(i))])\n",
        "  for i in liste2:\n",
        "    if len(i) < 2:\n",
        "      liste2.append(liste2.pop(liste2.index(i)))    \n",
        "  \n",
        "  return liste2\n",
        "\n",
        "advanced_sort([\"b\", \"a\", \"b\", \"a\", \"c\"])\n",
        "\n",
        "  "
      ],
      "execution_count": null,
      "outputs": [
        {
          "output_type": "execute_result",
          "data": {
            "text/plain": [
              "[['b', 'b'], ['a', 'a'], ['c']]"
            ]
          },
          "metadata": {},
          "execution_count": 47
        }
      ]
    },
    {
      "cell_type": "code",
      "metadata": {
        "id": "warJzv3sr8Wt",
        "colab": {
          "base_uri": "https://localhost:8080/"
        },
        "outputId": "7e1cb8a8-9007-43d5-fc22-baa415e0e5da"
      },
      "source": [
        "advanced_sort([5, 4, 5, 5, 4, 3])"
      ],
      "execution_count": null,
      "outputs": [
        {
          "output_type": "execute_result",
          "data": {
            "text/plain": [
              "[[5, 5, 5], [4, 4], [3]]"
            ]
          },
          "metadata": {},
          "execution_count": 49
        }
      ]
    },
    {
      "cell_type": "code",
      "metadata": {
        "colab": {
          "base_uri": "https://localhost:8080/"
        },
        "id": "5Wt2lrpOPCK-",
        "outputId": "f892c6aa-c042-40ec-d511-401a430e032a"
      },
      "source": [
        ""
      ],
      "execution_count": null,
      "outputs": [
        {
          "output_type": "execute_result",
          "data": {
            "text/plain": [
              "1"
            ]
          },
          "metadata": {},
          "execution_count": 44
        }
      ]
    },
    {
      "cell_type": "code",
      "metadata": {
        "colab": {
          "base_uri": "https://localhost:8080/"
        },
        "id": "gUtOzqv4ZpIv",
        "outputId": "d93651b9-d336-46e7-ccd7-c008dd4580af"
      },
      "source": [
        "def advanced_sort(liste):\n",
        "  liste2 = []\n",
        "  for i in sorted(set(liste),reverse=True):\n",
        "      liste2.append([i for j in range(liste.count(i))])\n",
        "  return [liste2.append(liste2.pop(liste2.index(i))) for i in liste2 if len(i) < 2]\n",
        "\n",
        "advanced_sort([\"b\", \"a\", \"b\", \"a\", \"c\"])\n"
      ],
      "execution_count": null,
      "outputs": [
        {
          "output_type": "execute_result",
          "data": {
            "text/plain": [
              "[None, None]"
            ]
          },
          "metadata": {},
          "execution_count": 51
        }
      ]
    },
    {
      "cell_type": "code",
      "metadata": {
        "id": "B2xAbncobHVv"
      },
      "source": [
        ""
      ],
      "execution_count": null,
      "outputs": []
    }
  ]
}