{
  "nbformat": 4,
  "nbformat_minor": 0,
  "metadata": {
    "colab": {
      "name": "Snail_array.ipynb",
      "provenance": []
    },
    "kernelspec": {
      "name": "python3",
      "display_name": "Python 3"
    },
    "language_info": {
      "name": "python"
    }
  },
  "cells": [
    {
      "cell_type": "markdown",
      "metadata": {
        "id": "MbjGKheATlil"
      },
      "source": [
        "Given an n x n array, return the array elements arranged from outermost elements to the middle element, traveling clockwise.\n",
        "array = [[1,2,3],\n",
        "         [4,5,6],\n",
        "         [7,8,9]]\n",
        "snail(array) #=> [1,2,3,6,9,8,7,4,5]\n",
        "For better understanding, please follow the numbers of the next array consecutively:\n",
        "array = [[1,2,3],\n",
        "         [8,9,4],\n",
        "         [7,6,5]]\n",
        "snail(array) #=> [1,2,3,4,5,6,7,8,9]\n",
        "This image will illustrate things more clearly:\n",
        "NOTE: The idea is not sort the elements from the lowest value to the highest; the idea is to traverse the 2-d array in a clockwise snailshell pattern.\n",
        "NOTE 2: The 0x0 (empty matrix) is represented as en empty array inside an array [[]].\n"
      ]
    },
    {
      "cell_type": "code",
      "metadata": {
        "id": "BawLQe1aEGtq"
      },
      "source": [
        "def snail(array):\n",
        "  liste = []\n",
        "  while len(array):\n",
        "    liste.extend(array.pop(0))\n",
        "    array = list(zip(*array))[::-1]\n",
        "  return liste"
      ],
      "execution_count": 30,
      "outputs": []
    },
    {
      "cell_type": "code",
      "metadata": {
        "colab": {
          "base_uri": "https://localhost:8080/"
        },
        "id": "2-KtP8lhELJA",
        "outputId": "c135302b-3681-4bf1-d12c-d4d62aa8fc3f"
      },
      "source": [
        "array = [[1,2,3,1],\n",
        "         [4,5,6,4],\n",
        "         [7,8,9,7],\n",
        "         [7,8,9,7]]\n",
        "snail(array)        "
      ],
      "execution_count": 31,
      "outputs": [
        {
          "output_type": "execute_result",
          "data": {
            "text/plain": [
              "[1, 2, 3, 1, 4, 7, 7, 9, 8, 7, 7, 4, 5, 6, 9, 8]"
            ]
          },
          "metadata": {},
          "execution_count": 31
        }
      ]
    },
    {
      "cell_type": "code",
      "metadata": {
        "id": "wllp7FNhESxX"
      },
      "source": [
        ""
      ],
      "execution_count": null,
      "outputs": []
    }
  ]
}