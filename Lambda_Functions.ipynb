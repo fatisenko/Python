{
  "nbformat": 4,
  "nbformat_minor": 0,
  "metadata": {
    "colab": {
      "name": "Lambda Functions.ipynb",
      "provenance": []
    },
    "kernelspec": {
      "display_name": "Python 3",
      "name": "python3"
    },
    "language_info": {
      "name": "python"
    }
  },
  "cells": [
    {
      "cell_type": "code",
      "metadata": {
        "colab": {
          "base_uri": "https://localhost:8080/",
          "height": 35
        },
        "id": "6qZPJy4L4brw",
        "outputId": "14e505f9-e7d8-488f-e563-8f413c6c201b"
      },
      "source": [
        "(lambda x : x[::-1])(\"ali\")"
      ],
      "execution_count": null,
      "outputs": [
        {
          "data": {
            "application/vnd.google.colaboratory.intrinsic+json": {
              "type": "string"
            },
            "text/plain": [
              "'ila'"
            ]
          },
          "execution_count": 1,
          "metadata": {},
          "output_type": "execute_result"
        }
      ]
    },
    {
      "cell_type": "code",
      "metadata": {
        "colab": {
          "base_uri": "https://localhost:8080/",
          "height": 130
        },
        "id": "nmjmsPON7je8",
        "outputId": "987412d4-e083-4f1c-bcb7-94ec43eac85e"
      },
      "source": [
        "for x in [1,2,3,4,5,6,7]:\n",
        "  (x, \": \" lambda x : \"odd\" if x % 2 != 0 else \"even\") (x)"
      ],
      "execution_count": null,
      "outputs": [
        {
          "ename": "SyntaxError",
          "evalue": "ignored",
          "output_type": "error",
          "traceback": [
            "\u001b[0;36m  File \u001b[0;32m\"<ipython-input-17-c3f619a73e1c>\"\u001b[0;36m, line \u001b[0;32m2\u001b[0m\n\u001b[0;31m    (x, \": \" lambda x : \"odd\" if x % 2 != 0 else \"even\") (x)\u001b[0m\n\u001b[0m                  ^\u001b[0m\n\u001b[0;31mSyntaxError\u001b[0m\u001b[0;31m:\u001b[0m invalid syntax\n"
          ]
        }
      ]
    },
    {
      "cell_type": "code",
      "metadata": {
        "colab": {
          "base_uri": "https://localhost:8080/"
        },
        "id": "dmo7E_fd94Kx",
        "outputId": "ffc18b51-953b-4aa6-f631-88af15ab50bc"
      },
      "source": [
        "liste = [*range(1,7)]\n",
        "for i in liste :\n",
        "  print(i, \":\" , (lambda x : \"odd\" if x  % 2 != 0 else \"even\")(i))"
      ],
      "execution_count": null,
      "outputs": [
        {
          "name": "stdout",
          "output_type": "stream",
          "text": [
            "1 : odd\n",
            "2 : even\n",
            "3 : odd\n",
            "4 : even\n",
            "5 : odd\n",
            "6 : even\n"
          ]
        }
      ]
    },
    {
      "cell_type": "code",
      "metadata": {
        "colab": {
          "base_uri": "https://localhost:8080/"
        },
        "id": "k0mguyC4_VdZ",
        "outputId": "f3dfd1f2-e328-4c36-9ac4-56a530de2389"
      },
      "source": [
        "number = [1,2,3,4,5]\n",
        "for a in number :\n",
        "    print(a, \":\", (lambda x : \"even\" if x % 2 == 0 else \"odd\")(a))"
      ],
      "execution_count": null,
      "outputs": [
        {
          "name": "stdout",
          "output_type": "stream",
          "text": [
            "1 : odd\n",
            "2 : even\n",
            "3 : odd\n",
            "4 : even\n",
            "5 : odd\n"
          ]
        }
      ]
    },
    {
      "cell_type": "code",
      "metadata": {
        "colab": {
          "base_uri": "https://localhost:8080/"
        },
        "id": "XYrswC6jAISZ",
        "outputId": "9263a0b2-4f70-4110-8a07-26f0aaaac356"
      },
      "source": [
        "sonuç = map(lambda x : x**2, [1,2,3])\n",
        "print(*sonuç)"
      ],
      "execution_count": null,
      "outputs": [
        {
          "name": "stdout",
          "output_type": "stream",
          "text": [
            "1 4 9\n"
          ]
        }
      ]
    },
    {
      "cell_type": "code",
      "metadata": {
        "colab": {
          "base_uri": "https://localhost:8080/"
        },
        "id": "ODq4vkdBBOLS",
        "outputId": "b16327b8-cd29-4dce-a64d-46a5eecbfd70"
      },
      "source": [
        "def square(x):\n",
        "  return x**2\n",
        "\n",
        "sonuç2 = map(square,[1,2,3])\n",
        "print(*sonuç2)"
      ],
      "execution_count": null,
      "outputs": [
        {
          "name": "stdout",
          "output_type": "stream",
          "text": [
            "1 4 9\n"
          ]
        }
      ]
    },
    {
      "cell_type": "code",
      "metadata": {
        "colab": {
          "base_uri": "https://localhost:8080/"
        },
        "id": "rPvdc5lwFnyz",
        "outputId": "ffe2d160-d48c-4370-9e04-31c2a4ed40df"
      },
      "source": [
        "nums1 = [9, 6, 7, 4]\n",
        "nums2 = [3, 6, 5, 8]\n",
        "ortalama = map(lambda x,y : (x+y)/2 , nums1, nums2)\n",
        "print(*ortalama)"
      ],
      "execution_count": null,
      "outputs": [
        {
          "name": "stdout",
          "output_type": "stream",
          "text": [
            "6.0 6.0 6.0 6.0\n"
          ]
        }
      ]
    },
    {
      "cell_type": "code",
      "metadata": {
        "colab": {
          "base_uri": "https://localhost:8080/"
        },
        "id": "hhGM-15NH7N8",
        "outputId": "1e23d4f4-c83d-46ad-eab1-584447e40714"
      },
      "source": [
        "words1 = [\"you\", \"much\", \"hard\"]\n",
        "words2 = [\"i\", \"you\", \"he\"]\n",
        "words3 = [\"love\", \"ate\", \"works\"]\n",
        "sentence = map(lambda x,y,z: x+\" \"+y+\" \"+z, words2, words3, words1)\n",
        "print(list(sentence))"
      ],
      "execution_count": null,
      "outputs": [
        {
          "name": "stdout",
          "output_type": "stream",
          "text": [
            "['i love you', 'you ate much', 'he works hard']\n"
          ]
        }
      ]
    },
    {
      "cell_type": "code",
      "metadata": {
        "colab": {
          "base_uri": "https://localhost:8080/"
        },
        "id": "6hBOkly7JRfz",
        "outputId": "dce00dde-29ec-47ce-bb48-7b9ba2357ef6"
      },
      "source": [
        "listee = [\"apple\", \"swim\", \"clock\", \"me\", \"kiwi\", \"banana\"]\n",
        "lenght = filter(lambda x: len(x)<5, listee)\n",
        "print(*lenght)"
      ],
      "execution_count": null,
      "outputs": [
        {
          "name": "stdout",
          "output_type": "stream",
          "text": [
            "swim me kiwi\n"
          ]
        }
      ]
    },
    {
      "cell_type": "code",
      "metadata": {
        "colab": {
          "base_uri": "https://localhost:8080/"
        },
        "id": "cQBtglhWOeQs",
        "outputId": "b236366f-b112-4d0e-aa09-3150812a62be"
      },
      "source": [
        "vowel_list = ['a', 'e', 'i', 'o', 'u']\n",
        "first_ten = ['a', 'b', 'c', 'd', 'e', 'f', 'g', 'h', 'i', 'j']\n",
        "vowel = filter(lambda x : x in vowel_list, first_ten)\n",
        "print(list(vowel))"
      ],
      "execution_count": null,
      "outputs": [
        {
          "name": "stdout",
          "output_type": "stream",
          "text": [
            "['a', 'e', 'i']\n"
          ]
        }
      ]
    },
    {
      "cell_type": "code",
      "metadata": {
        "id": "WvzxInAMW5Nk"
      },
      "source": [
        "def repeater(n):\n",
        "  return lambda x:x*n\n",
        "rep2 = repeater(2)  "
      ],
      "execution_count": null,
      "outputs": []
    },
    {
      "cell_type": "code",
      "metadata": {
        "colab": {
          "base_uri": "https://localhost:8080/"
        },
        "id": "AVQx2y03XfWi",
        "outputId": "04bfaf80-4a51-4a83-88b0-47e8acc43dd5"
      },
      "source": [
        "def emoji(n):\n",
        "  return lambda x : print(x,\":\" + n)\n",
        "myPrint_smile = emoji(\")\")\n",
        "myPrint_sad = emoji(\"(\")\n",
        "myPrint_neutral = emoji(\"|\")  \n",
        "myPrint_smile(\"hello\")"
      ],
      "execution_count": null,
      "outputs": [
        {
          "name": "stdout",
          "output_type": "stream",
          "text": [
            "hello :)\n"
          ]
        }
      ]
    },
    {
      "cell_type": "code",
      "metadata": {
        "colab": {
          "base_uri": "https://localhost:8080/"
        },
        "id": "WrQRyjUfYBkf",
        "outputId": "5538d8ca-e23c-4b18-d33a-8226e6b9d132"
      },
      "source": [
        "def generator(n):\n",
        "  return lambda x : n(x)\n",
        "liste = [5, 6, 4, 2, 3]  \n",
        "fatih_sorted = generator(sorted)\n",
        "fatih_sorted(liste)"
      ],
      "execution_count": 73,
      "outputs": [
        {
          "output_type": "execute_result",
          "data": {
            "text/plain": [
              "[2, 3, 4, 5, 6]"
            ]
          },
          "metadata": {},
          "execution_count": 73
        }
      ]
    },
    {
      "cell_type": "code",
      "metadata": {
        "id": "B4My_Wt5bM_o",
        "colab": {
          "base_uri": "https://localhost:8080/"
        },
        "outputId": "f55de54d-e6fc-4040-e629-7b5de26ee239"
      },
      "source": [
        "fatih_max = generator(max)\n",
        "fatih_max(liste)"
      ],
      "execution_count": 75,
      "outputs": [
        {
          "output_type": "execute_result",
          "data": {
            "text/plain": [
              "6"
            ]
          },
          "metadata": {},
          "execution_count": 75
        }
      ]
    },
    {
      "cell_type": "code",
      "metadata": {
        "colab": {
          "base_uri": "https://localhost:8080/"
        },
        "id": "Z3rwN4TwfE80",
        "outputId": "a8b7de60-1b3f-4871-ac26-ac84619f4f00"
      },
      "source": [
        "fatih_min = generator(min)\n",
        "fatih_min(liste)"
      ],
      "execution_count": 77,
      "outputs": [
        {
          "output_type": "execute_result",
          "data": {
            "text/plain": [
              "2"
            ]
          },
          "metadata": {},
          "execution_count": 77
        }
      ]
    },
    {
      "cell_type": "code",
      "metadata": {
        "id": "LsRsNcFCfMA4"
      },
      "source": [
        ""
      ],
      "execution_count": null,
      "outputs": []
    }
  ]
}