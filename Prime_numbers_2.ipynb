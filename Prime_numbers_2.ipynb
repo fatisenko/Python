{
  "nbformat": 4,
  "nbformat_minor": 0,
  "metadata": {
    "colab": {
      "name": "Prime numbers 2.ipynb",
      "provenance": []
    },
    "kernelspec": {
      "name": "python3",
      "display_name": "Python 3"
    },
    "language_info": {
      "name": "python"
    }
  },
  "cells": [
    {
      "cell_type": "code",
      "metadata": {
        "colab": {
          "base_uri": "https://localhost:8080/"
        },
        "id": "nTYhjrEd7-_j",
        "outputId": "7539f522-fcbb-4878-82e7-b6d304b3e3c7"
      },
      "source": [
        "n = int(input(\"give a number : \"))\n",
        "liste = []\n",
        "for i in range(2,n+1):\n",
        "  for j in range(1,i+1):\n",
        "    if i % j == 0:\n",
        "      counter += 1\n",
        "  if counter == 2:\n",
        "    liste.append(i)\n",
        "  counter = 0      \n",
        "print(liste,end='')"
      ],
      "execution_count": 15,
      "outputs": [
        {
          "output_type": "stream",
          "name": "stdout",
          "text": [
            "give a number : 100\n",
            "[2, 3, 5, 7, 11, 13, 17, 19, 23, 29, 31, 37, 41, 43, 47, 53, 59, 61, 67, 71, 73, 79, 83, 89, 97]"
          ]
        }
      ]
    }
  ]
}