{
  "nbformat": 4,
  "nbformat_minor": 0,
  "metadata": {
    "colab": {
      "name": "Parrot Trouble.ipynb",
      "provenance": [],
      "collapsed_sections": []
    },
    "kernelspec": {
      "name": "python3",
      "display_name": "Python 3"
    },
    "language_info": {
      "name": "python"
    }
  },
  "cells": [
    {
      "cell_type": "code",
      "metadata": {
        "colab": {
          "base_uri": "https://localhost:8080/"
        },
        "id": "OAMnveyhFJHH",
        "outputId": "63779089-02be-44e3-d512-f46e2eee1ffb"
      },
      "source": [
        "def parrot_trouble(talking, hour):\n",
        "    if talking and (hour < 6 or hour > 21) :\n",
        "      a = True\n",
        "    else:\n",
        "      a = False \n",
        "    return a  \n",
        "parrot_trouble(True,21)"
      ],
      "execution_count": 9,
      "outputs": [
        {
          "output_type": "execute_result",
          "data": {
            "text/plain": [
              "False"
            ]
          },
          "metadata": {},
          "execution_count": 9
        }
      ]
    },
    {
      "cell_type": "code",
      "metadata": {
        "id": "-SVXyEYMFKjg"
      },
      "source": [
        ""
      ],
      "execution_count": null,
      "outputs": []
    }
  ]
}