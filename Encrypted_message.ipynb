{
  "nbformat": 4,
  "nbformat_minor": 0,
  "metadata": {
    "colab": {
      "name": "Encrypted_message.ipynb",
      "provenance": [],
      "collapsed_sections": []
    },
    "kernelspec": {
      "name": "python3",
      "display_name": "Python 3"
    },
    "language_info": {
      "name": "python"
    }
  },
  "cells": [
    {
      "cell_type": "markdown",
      "metadata": {
        "id": "GPGdi85rMNzv"
      },
      "source": [
        "You have received an encrypted message from space. Your task is to decrypt the message with the following simple rules:\n",
        "Message string will consist of capital letters, numbers, and brackets only.\n",
        "When there's a block of code inside the brackets, such as [10AB], it means you need to repeat the letters AB for 10 times.\n",
        "Message can be embedded in multiple layers of blocks.\n",
        "Final decrypted message will only consist of capital letters.\n",
        "Create a function that takes encrypted message txt and returns the decrypted message."
      ]
    },
    {
      "cell_type": "code",
      "metadata": {
        "colab": {
          "base_uri": "https://localhost:8080/",
          "height": 35
        },
        "id": "VUZPtOm5AiUE",
        "outputId": "c34298e1-cb35-4b1b-92f7-09cf852c4b88"
      },
      "source": [
        "def message(text:str):\n",
        "  i = 0\n",
        "  n = \"\"\n",
        "  while i < len(text):\n",
        "    if text[i].isalpha():\n",
        "      n += text[i]\n",
        "    elif text[i].isdigit():\n",
        "      t1, t2 = \"\", \"\" \n",
        "      while  text[i].isdigit():\n",
        "        t1 += text[i]\n",
        "        i += 1\n",
        "      while text[i].isalpha():\n",
        "        t2 += text[i] \n",
        "        i += 1\n",
        "      n += int(t1) * t2\n",
        "    i +=1\n",
        "  return n          \n",
        "message(\"IF[2E]LG[5O]D\")"
      ],
      "execution_count": 32,
      "outputs": [
        {
          "output_type": "execute_result",
          "data": {
            "application/vnd.google.colaboratory.intrinsic+json": {
              "type": "string"
            },
            "text/plain": [
              "'IFEELGOOOOOD'"
            ]
          },
          "metadata": {},
          "execution_count": 32
        }
      ]
    }
  ]
}