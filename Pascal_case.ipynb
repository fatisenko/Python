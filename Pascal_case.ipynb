{
  "nbformat": 4,
  "nbformat_minor": 0,
  "metadata": {
    "colab": {
      "name": "Pascal_case.ipynb",
      "provenance": [],
      "collapsed_sections": []
    },
    "kernelspec": {
      "name": "python3",
      "display_name": "Python 3"
    },
    "language_info": {
      "name": "python"
    }
  },
  "cells": [
    {
      "cell_type": "markdown",
      "metadata": {
        "id": "Yku7F32XMZqJ"
      },
      "source": [
        "Complete the function/method so that it takes a PascalCase string and returns the string in snake_case notation. Lowercase characters can be numbers. If the method gets a number as input, it should return a string.\n",
        "Examples\n",
        "\"TestController\"  -->  \"test_controller\"\n",
        "\"MoviesAndBooks\"  -->  \"movies_and_books\"\n",
        "\"App7Test\"        -->  \"app7_test\"\n",
        "1                 -->  \"1\""
      ]
    },
    {
      "cell_type": "code",
      "metadata": {
        "colab": {
          "base_uri": "https://localhost:8080/",
          "height": 35
        },
        "id": "U6yluJC0L2sW",
        "outputId": "ae205166-1456-45a5-9c61-f8d26db4da3c"
      },
      "source": [
        "def pascal_case(txt:str): \n",
        "  new = txt[0].lower()\n",
        "  i = 1\n",
        "  while i < len(txt):\n",
        "    if txt[i].islower() or txt[i].isdigit():\n",
        "      new += txt[i]\n",
        "      i += 1\n",
        "    elif txt[i].isupper() or txt[i].isdigit():\n",
        "      new += \"_\" + txt[i].lower()   \n",
        "      i += 1 \n",
        "  return new        \n",
        "pascal_case(\"MoviesAndBooks\")"
      ],
      "execution_count": 3,
      "outputs": [
        {
          "output_type": "execute_result",
          "data": {
            "application/vnd.google.colaboratory.intrinsic+json": {
              "type": "string"
            },
            "text/plain": [
              "'movies_and_books'"
            ]
          },
          "metadata": {},
          "execution_count": 3
        }
      ]
    },
    {
      "cell_type": "code",
      "metadata": {
        "id": "dmoEnebCL7g1"
      },
      "source": [
        ""
      ],
      "execution_count": null,
      "outputs": []
    }
  ]
}