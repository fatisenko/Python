{
 "cells": [
  {
   "cell_type": "code",
   "execution_count": 3,
   "metadata": {},
   "outputs": [
    {
     "data": {
      "text/plain": [
       "'i'"
      ]
     },
     "execution_count": 3,
     "metadata": {},
     "output_type": "execute_result"
    }
   ],
   "source": [
    "def nearestVowel(letter):\n",
    "  alphabet = \"abcdefghijklmnopqrstuvwxyz\"\n",
    "  new = \"\"\n",
    "  for i in range(len(alphabet)):\n",
    "    if alphabet[i] == letter:\n",
    "      if i <= 2:\n",
    "        new += \"a\"\n",
    "      elif i <= 6 :\n",
    "        new += \"e\"\n",
    "      elif i <= 11:\n",
    "        new += \"i\"  \n",
    "      elif i <= 17:\n",
    "        new += \"o\"\n",
    "      else:\n",
    "        new += \"u\"\n",
    "  return new\n",
    "nearestVowel(\"h\")            "
   ]
  },
  {
   "cell_type": "code",
   "execution_count": null,
   "metadata": {},
   "outputs": [],
   "source": []
  }
 ],
 "metadata": {
  "interpreter": {
   "hash": "ceb093ceb18f13451048487bcb7ef3513a6b6b3790aa848cfee2c3e2f6c47c25"
  },
  "kernelspec": {
   "display_name": "Python 3.10.0 64-bit",
   "language": "python",
   "name": "python3"
  },
  "language_info": {
   "codemirror_mode": {
    "name": "ipython",
    "version": 3
   },
   "file_extension": ".py",
   "mimetype": "text/x-python",
   "name": "python",
   "nbconvert_exporter": "python",
   "pygments_lexer": "ipython3",
   "version": "3.10.0"
  },
  "orig_nbformat": 4
 },
 "nbformat": 4,
 "nbformat_minor": 2
}
