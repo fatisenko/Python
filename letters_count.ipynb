{
  "nbformat": 4,
  "nbformat_minor": 0,
  "metadata": {
    "colab": {
      "name": "letters count.ipynb",
      "provenance": [],
      "collapsed_sections": []
    },
    "kernelspec": {
      "name": "python3",
      "display_name": "Python 3"
    },
    "language_info": {
      "name": "python"
    }
  },
  "cells": [
    {
      "cell_type": "code",
      "execution_count": null,
      "metadata": {
        "id": "8w8-qCEC9AqZ"
      },
      "outputs": [],
      "source": [
        "sentence = input(\"Enter a sentence\")\n",
        "dict_ = {}\n",
        "for i in sentence:\n",
        "  if i not in dict_ and i != \" \":\n",
        "    dict_[i] = [sentence.count(i)]  \n",
        "print(dict_)  "
      ]
    },
    {
      "cell_type": "code",
      "source": [
        ""
      ],
      "metadata": {
        "id": "2PwNTkSDauUF"
      },
      "execution_count": null,
      "outputs": []
    }
  ]
}